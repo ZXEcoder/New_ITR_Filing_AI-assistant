{
 "cells": [
  {
   "cell_type": "code",
   "execution_count": 3,
   "metadata": {},
   "outputs": [],
   "source": [
    "from crewai import Agent\n",
    "from crewai_tools import SerperDevTool\n",
    "import os\n",
    "from dotenv import load_dotenv\n",
    "from crewai import  Task, Crew, LLM\n",
    "from crewai_tools import SerperDevTool, WebsiteSearchTool\n",
    "os.environ[\"SERPER_API_KEY\"] = os.getenv(\"SERPER_API_KEY\")\n",
    "\n",
    "# Initialize enhanced search tools\n",
    "\n",
    "\n",
    "import requests\n",
    "\n",
    "# Load environment variables\n",
    "load_dotenv()\n",
    "\n",
    "# Create an agent with all available parameters\n",
    "agent = Agent(\n",
    "    role=\"Senior Data Scientist\",\n",
    "    goal=\"Analyze and interpret complex datasets to provide actionable insights\",\n",
    "    backstory=\"With over 10 years of experience in data science and machine learning, \"\n",
    "              \"you excel at finding patterns in complex datasets.\",\n",
    "    llm= LLM(\n",
    "        model=\"ollama/deepseek-r1:7b\",\n",
    "        base_url=\"http://localhost:11434\",\n",
    "        temperature=0.7\n",
    "    ),  # Default: OPENAI_MODEL_NAME or \"gpt-4\"\n",
    "    function_calling_llm=None,  # Optional: Separate LLM for tool calling\n",
    "    memory=True,  # Default: True\n",
    "    verbose=False,  # Default: False\n",
    "    allow_delegation=False,  # Default: False\n",
    "    max_iter=20,  # Default: 20 iterations\n",
    "    max_rpm=None,  # Optional: Rate limit for API calls\n",
    "    max_execution_time=None,  # Optional: Maximum execution time in seconds\n",
    "    max_retry_limit=2,  # Default: 2 retries on error\n",
    "    allow_code_execution=False,  # Default: False\n",
    "    code_execution_mode=\"safe\",  # Default: \"safe\" (options: \"safe\", \"unsafe\")\n",
    "    respect_context_window=True,  # Default: True\n",
    "    use_system_prompt=True,  # Default: True\n",
    "    tools=[SerperDevTool()],  # Optional: List of tools\n",
    "    knowledge_sources=None,  # Optional: List of knowledge sources\n",
    "    embedder=None,  # Optional: Custom embedder configuration\n",
    "    system_template=None,  # Optional: Custom system prompt template\n",
    "    prompt_template=None,  # Optional: Custom prompt template\n",
    "    response_template=None,  # Optional: Custom response template\n",
    "    step_callback=None,  # Optional: Callback function for monitoring\n",
    ")\n"
   ]
  },
  {
   "cell_type": "code",
   "execution_count": 4,
   "metadata": {},
   "outputs": [
    {
     "ename": "ImportError",
     "evalue": "cannot import name 'WikipediaTools' from 'crewai_tools' (c:\\Users\\suraj\\miniconda3\\envs\\myenv\\Lib\\site-packages\\crewai_tools\\__init__.py)",
     "output_type": "error",
     "traceback": [
      "\u001b[1;31m---------------------------------------------------------------------------\u001b[0m",
      "\u001b[1;31mImportError\u001b[0m                               Traceback (most recent call last)",
      "Cell \u001b[1;32mIn[4], line 2\u001b[0m\n\u001b[0;32m      1\u001b[0m \u001b[38;5;28;01mfrom\u001b[39;00m\u001b[38;5;250m \u001b[39m\u001b[38;5;21;01mcrewai\u001b[39;00m\u001b[38;5;250m \u001b[39m\u001b[38;5;28;01mimport\u001b[39;00m Agent\n\u001b[1;32m----> 2\u001b[0m \u001b[38;5;28;01mfrom\u001b[39;00m\u001b[38;5;250m \u001b[39m\u001b[38;5;21;01mcrewai_tools\u001b[39;00m\u001b[38;5;250m \u001b[39m\u001b[38;5;28;01mimport\u001b[39;00m SerperDevTool, WikipediaTools\n\u001b[0;32m      4\u001b[0m \u001b[38;5;66;03m# Create tools\u001b[39;00m\n\u001b[0;32m      5\u001b[0m search_tool \u001b[38;5;241m=\u001b[39m SerperDevTool()\n",
      "\u001b[1;31mImportError\u001b[0m: cannot import name 'WikipediaTools' from 'crewai_tools' (c:\\Users\\suraj\\miniconda3\\envs\\myenv\\Lib\\site-packages\\crewai_tools\\__init__.py)"
     ]
    }
   ],
   "source": [
    "\n"
   ]
  },
  {
   "cell_type": "code",
   "execution_count": 5,
   "metadata": {},
   "outputs": [
    {
     "ename": "OSError",
     "evalue": "source code not available",
     "output_type": "error",
     "traceback": [
      "\u001b[1;31m---------------------------------------------------------------------------\u001b[0m",
      "\u001b[1;31mOSError\u001b[0m                                   Traceback (most recent call last)",
      "Cell \u001b[1;32mIn[5], line 6\u001b[0m\n\u001b[0;32m      3\u001b[0m \u001b[38;5;28;01mfrom\u001b[39;00m\u001b[38;5;250m \u001b[39m\u001b[38;5;21;01mcrewai\u001b[39;00m\u001b[38;5;21;01m.\u001b[39;00m\u001b[38;5;21;01mproject\u001b[39;00m\u001b[38;5;250m \u001b[39m\u001b[38;5;28;01mimport\u001b[39;00m CrewBase, agent, crew, task\n\u001b[0;32m      4\u001b[0m \u001b[38;5;28;01mfrom\u001b[39;00m\u001b[38;5;250m \u001b[39m\u001b[38;5;21;01mcrewai_tools\u001b[39;00m\u001b[38;5;250m \u001b[39m\u001b[38;5;28;01mimport\u001b[39;00m SerperDevTool\n\u001b[1;32m----> 6\u001b[0m \u001b[38;5;129;43m@CrewBase\u001b[39;49m\n\u001b[0;32m      7\u001b[0m \u001b[38;5;28;43;01mclass\u001b[39;49;00m\u001b[38;5;250;43m \u001b[39;49m\u001b[38;5;21;43;01mLatestAiDevelopmentCrew\u001b[39;49;00m\u001b[43m(\u001b[49m\u001b[43m)\u001b[49m\u001b[43m:\u001b[49m\n\u001b[0;32m      8\u001b[0m \u001b[38;5;250;43m  \u001b[39;49m\u001b[38;5;124;43;03m\"\"\"LatestAiDevelopment crew\"\"\"\u001b[39;49;00m\n\u001b[0;32m     10\u001b[0m \u001b[43m  \u001b[49m\u001b[38;5;129;43m@agent\u001b[39;49m\n\u001b[0;32m     11\u001b[0m \u001b[43m  \u001b[49m\u001b[38;5;28;43;01mdef\u001b[39;49;00m\u001b[38;5;250;43m \u001b[39;49m\u001b[38;5;21;43mresearcher\u001b[39;49m\u001b[43m(\u001b[49m\u001b[38;5;28;43mself\u001b[39;49m\u001b[43m)\u001b[49m\u001b[43m \u001b[49m\u001b[38;5;241;43m-\u001b[39;49m\u001b[38;5;241;43m>\u001b[39;49m\u001b[43m \u001b[49m\u001b[43mAgent\u001b[49m\u001b[43m:\u001b[49m\n",
      "File \u001b[1;32mc:\\Users\\suraj\\miniconda3\\envs\\myenv\\Lib\\site-packages\\crewai\\project\\crew_base.py:21\u001b[0m, in \u001b[0;36mCrewBase\u001b[1;34m(cls)\u001b[0m\n\u001b[0;32m     18\u001b[0m \u001b[38;5;28;01mdef\u001b[39;00m\u001b[38;5;250m \u001b[39m\u001b[38;5;21mCrewBase\u001b[39m(\u001b[38;5;28mcls\u001b[39m: T) \u001b[38;5;241m-\u001b[39m\u001b[38;5;241m>\u001b[39m T:\n\u001b[0;32m     19\u001b[0m \u001b[38;5;250m    \u001b[39m\u001b[38;5;124;03m\"\"\"Wraps a class with crew functionality and configuration management.\"\"\"\u001b[39;00m\n\u001b[1;32m---> 21\u001b[0m \u001b[43m    \u001b[49m\u001b[38;5;28;43;01mclass\u001b[39;49;00m\u001b[38;5;250;43m \u001b[39;49m\u001b[38;5;21;43;01mWrappedClass\u001b[39;49;00m\u001b[43m(\u001b[49m\u001b[38;5;28;43mcls\u001b[39;49m\u001b[43m)\u001b[49m\u001b[43m:\u001b[49m\u001b[43m  \u001b[49m\u001b[38;5;66;43;03m# type: ignore\u001b[39;49;00m\n\u001b[0;32m     22\u001b[0m \u001b[43m        \u001b[49m\u001b[43mis_crew_class\u001b[49m\u001b[43m:\u001b[49m\u001b[43m \u001b[49m\u001b[38;5;28;43mbool\u001b[39;49m\u001b[43m \u001b[49m\u001b[38;5;241;43m=\u001b[39;49m\u001b[43m \u001b[49m\u001b[38;5;28;43;01mTrue\u001b[39;49;00m\u001b[43m  \u001b[49m\u001b[38;5;66;43;03m# type: ignore\u001b[39;49;00m\n\u001b[0;32m     24\u001b[0m \u001b[43m        \u001b[49m\u001b[38;5;66;43;03m# Get the directory of the class being decorated\u001b[39;49;00m\n",
      "File \u001b[1;32mc:\\Users\\suraj\\miniconda3\\envs\\myenv\\Lib\\site-packages\\crewai\\project\\crew_base.py:25\u001b[0m, in \u001b[0;36mCrewBase.<locals>.WrappedClass\u001b[1;34m()\u001b[0m\n\u001b[0;32m     22\u001b[0m is_crew_class: \u001b[38;5;28mbool\u001b[39m \u001b[38;5;241m=\u001b[39m \u001b[38;5;28;01mTrue\u001b[39;00m  \u001b[38;5;66;03m# type: ignore\u001b[39;00m\n\u001b[0;32m     24\u001b[0m \u001b[38;5;66;03m# Get the directory of the class being decorated\u001b[39;00m\n\u001b[1;32m---> 25\u001b[0m base_directory \u001b[38;5;241m=\u001b[39m Path(\u001b[43minspect\u001b[49m\u001b[38;5;241;43m.\u001b[39;49m\u001b[43mgetfile\u001b[49m\u001b[43m(\u001b[49m\u001b[38;5;28;43mcls\u001b[39;49m\u001b[43m)\u001b[49m)\u001b[38;5;241m.\u001b[39mparent\n\u001b[0;32m     27\u001b[0m original_agents_config_path \u001b[38;5;241m=\u001b[39m \u001b[38;5;28mgetattr\u001b[39m(\n\u001b[0;32m     28\u001b[0m     \u001b[38;5;28mcls\u001b[39m, \u001b[38;5;124m\"\u001b[39m\u001b[38;5;124magents_config\u001b[39m\u001b[38;5;124m\"\u001b[39m, \u001b[38;5;124m\"\u001b[39m\u001b[38;5;124mconfig/agents.yaml\u001b[39m\u001b[38;5;124m\"\u001b[39m\n\u001b[0;32m     29\u001b[0m )\n\u001b[0;32m     30\u001b[0m original_tasks_config_path \u001b[38;5;241m=\u001b[39m \u001b[38;5;28mgetattr\u001b[39m(\u001b[38;5;28mcls\u001b[39m, \u001b[38;5;124m\"\u001b[39m\u001b[38;5;124mtasks_config\u001b[39m\u001b[38;5;124m\"\u001b[39m, \u001b[38;5;124m\"\u001b[39m\u001b[38;5;124mconfig/tasks.yaml\u001b[39m\u001b[38;5;124m\"\u001b[39m)\n",
      "File \u001b[1;32mc:\\Users\\suraj\\miniconda3\\envs\\myenv\\Lib\\inspect.py:904\u001b[0m, in \u001b[0;36mgetfile\u001b[1;34m(object)\u001b[0m\n\u001b[0;32m    902\u001b[0m             \u001b[38;5;28;01mreturn\u001b[39;00m module\u001b[38;5;241m.\u001b[39m\u001b[38;5;18m__file__\u001b[39m\n\u001b[0;32m    903\u001b[0m         \u001b[38;5;28;01mif\u001b[39;00m \u001b[38;5;28mobject\u001b[39m\u001b[38;5;241m.\u001b[39m\u001b[38;5;18m__module__\u001b[39m \u001b[38;5;241m==\u001b[39m \u001b[38;5;124m'\u001b[39m\u001b[38;5;124m__main__\u001b[39m\u001b[38;5;124m'\u001b[39m:\n\u001b[1;32m--> 904\u001b[0m             \u001b[38;5;28;01mraise\u001b[39;00m \u001b[38;5;167;01mOSError\u001b[39;00m(\u001b[38;5;124m'\u001b[39m\u001b[38;5;124msource code not available\u001b[39m\u001b[38;5;124m'\u001b[39m)\n\u001b[0;32m    905\u001b[0m     \u001b[38;5;28;01mraise\u001b[39;00m \u001b[38;5;167;01mTypeError\u001b[39;00m(\u001b[38;5;124m'\u001b[39m\u001b[38;5;132;01m{!r}\u001b[39;00m\u001b[38;5;124m is a built-in class\u001b[39m\u001b[38;5;124m'\u001b[39m\u001b[38;5;241m.\u001b[39mformat(\u001b[38;5;28mobject\u001b[39m))\n\u001b[0;32m    906\u001b[0m \u001b[38;5;28;01mif\u001b[39;00m ismethod(\u001b[38;5;28mobject\u001b[39m):\n",
      "\u001b[1;31mOSError\u001b[0m: source code not available"
     ]
    }
   ],
   "source": [
    "# src/latest_ai_development/crew.py\n",
    "from crewai import Agent, Crew, Process, Task\n",
    "from crewai.project import CrewBase, agent, crew, task\n",
    "from crewai_tools import SerperDevTool\n",
    "\n",
    "@CrewBase\n",
    "class LatestAiDevelopmentCrew():\n",
    "  \"\"\"LatestAiDevelopment crew\"\"\"\n",
    "\n",
    "  @agent\n",
    "  def researcher(self) -> Agent:\n",
    "    return Agent(\n",
    "      config=self.agents_config['researcher'],\n",
    "      verbose=True,\n",
    "      tools=[SerperDevTool()]\n",
    "    )\n",
    "\n",
    "  @agent\n",
    "  def reporting_analyst(self) -> Agent:\n",
    "    return Agent(\n",
    "      config=self.agents_config['reporting_analyst'],\n",
    "      verbose=True\n",
    "    )\n",
    "\n",
    "  @task\n",
    "  def research_task(self) -> Task:\n",
    "    return Task(\n",
    "      config=self.tasks_config['research_task'],\n",
    "    )\n",
    "\n",
    "  @task\n",
    "  def reporting_task(self) -> Task:\n",
    "    return Task(\n",
    "      config=self.tasks_config['reporting_task'],\n",
    "      output_file='output/report.md' # This is the file that will be contain the final report.\n",
    "    )\n",
    "\n",
    "  @crew\n",
    "  def crew(self) -> Crew:\n",
    "    \"\"\"Creates the LatestAiDevelopment crew\"\"\"\n",
    "    return Crew(\n",
    "      agents=self.agents, # Automatically created by the @agent decorator\n",
    "      tasks=self.tasks, # Automatically created by the @task decorator\n",
    "      process=Process.sequential,\n",
    "      verbose=True,\n",
    "    )\n"
   ]
  },
  {
   "cell_type": "code",
   "execution_count": null,
   "metadata": {},
   "outputs": [],
   "source": [
    "#!/usr/bin/env python\n",
    "# src/latest_ai_development/main.py\n",
    "import sys\n",
    "from latest_ai_development.crew import LatestAiDevelopmentCrew\n",
    "\n",
    "def run():\n",
    "  \"\"\"\n",
    "  Run the crew.\n",
    "  \"\"\"\n",
    "  inputs = {\n",
    "    'topic': 'AI Agents'\n",
    "  }\n",
    "  LatestAiDevelopmentCrew().crew().kickoff(inputs=inputs)\n"
   ]
  }
 ],
 "metadata": {
  "kernelspec": {
   "display_name": "myenv",
   "language": "python",
   "name": "python3"
  },
  "language_info": {
   "codemirror_mode": {
    "name": "ipython",
    "version": 3
   },
   "file_extension": ".py",
   "mimetype": "text/x-python",
   "name": "python",
   "nbconvert_exporter": "python",
   "pygments_lexer": "ipython3",
   "version": "3.11.11"
  }
 },
 "nbformat": 4,
 "nbformat_minor": 2
}
